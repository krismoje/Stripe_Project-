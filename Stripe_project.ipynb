{
 "cells": [
  {
   "cell_type": "code",
   "execution_count": 39,
   "metadata": {},
   "outputs": [],
   "source": [
    "\n",
    "import pandas as pd\n",
    "\n"
   ]
  },
  {
   "cell_type": "code",
   "execution_count": 40,
   "metadata": {},
   "outputs": [
    {
     "name": "stdout",
     "output_type": "stream",
     "text": [
      "<class 'pandas.core.frame.DataFrame'>\n",
      "RangeIndex: 1577887 entries, 0 to 1577886\n",
      "Data columns (total 6 columns):\n",
      " #   Column               Non-Null Count    Dtype \n",
      "---  ------               --------------    ----- \n",
      " 0   date                 1577887 non-null  object\n",
      " 1   merchant             1577887 non-null  object\n",
      " 2   subscription_volume  1577887 non-null  int64 \n",
      " 3   checkout_volume      1577887 non-null  int64 \n",
      " 4   payment_link_volume  1577887 non-null  int64 \n",
      " 5   total_volume         1577887 non-null  int64 \n",
      "dtypes: int64(4), object(2)\n",
      "memory usage: 72.2+ MB\n",
      "<class 'pandas.core.frame.DataFrame'>\n",
      "RangeIndex: 23627 entries, 0 to 23626\n",
      "Data columns (total 5 columns):\n",
      " #   Column             Non-Null Count  Dtype \n",
      "---  ------             --------------  ----- \n",
      " 0   merchant           23627 non-null  object\n",
      " 1   industry           23627 non-null  object\n",
      " 2   first_charge_date  23627 non-null  object\n",
      " 3   country            23627 non-null  object\n",
      " 4   business_size      23627 non-null  object\n",
      "dtypes: object(5)\n",
      "memory usage: 923.1+ KB\n"
     ]
    }
   ],
   "source": [
    "# Load the datasets\n",
    "Stripe_payment = pd.read_excel(r\"C:\\Users\\cryst\\Desktop\\Stripe DS Written Project Data 2022-20240827T030341Z-001\\Stripe DS Written Project Data 2022\\dstakehome_payments.xlsx\")\n",
    "Stripe_merchants = pd.read_excel(r\"C:\\Users\\cryst\\Desktop\\Stripe DS Written Project Data 2022-20240827T030341Z-001_1\\Stripe DS Written Project Data 2022\\dstakehome_merchants.xlsx\")\n",
    "Stripe_payment.info()\n",
    "Stripe_merchants.info()"
   ]
  },
  {
   "cell_type": "code",
   "execution_count": 43,
   "metadata": {},
   "outputs": [],
   "source": [
    "#Convert date to datetime, with errors converted to NaT\n",
    "Stripe_merchants['first_charge_date'] = pd.to_datetime(Stripe_merchants['first_charge_date'], errors='coerce')\n",
    "\n",
    "Stripe_payment['date'] = pd.to_datetime(Stripe_payment['date'], errors='coerce')"
   ]
  },
  {
   "cell_type": "code",
   "execution_count": 45,
   "metadata": {},
   "outputs": [
    {
     "name": "stdout",
     "output_type": "stream",
     "text": [
      "Number of invalid dates converted to NaT in Stripe_merchants: 26\n",
      "Number of invalid dates converted to NaT in Stripe payment: 0\n"
     ]
    }
   ],
   "source": [
    "# Check for NaT values (invalid dates)\n",
    "invalid_dates_count = Stripe_merchants['first_charge_date'].isna().sum()\n",
    "invalid_dates_count1 = Stripe_payment['date'].isna().sum()\n",
    "\n",
    "# Display the number of invalid dates in Stripe_merchants\n",
    "print(f\"Number of invalid dates converted to NaT in Stripe_merchants: {invalid_dates_count}\")\n",
    "\n",
    "# Display the number of invalid dates in Stripe_payment\n",
    "print(f\"Number of invalid dates converted to NaT in Stripe payment: {invalid_dates_count1}\")"
   ]
  },
  {
   "cell_type": "code",
   "execution_count": 46,
   "metadata": {},
   "outputs": [
    {
     "name": "stdout",
     "output_type": "stream",
     "text": [
      "date                   0\n",
      "merchant               0\n",
      "subscription_volume    0\n",
      "checkout_volume        0\n",
      "payment_link_volume    0\n",
      "total_volume           0\n",
      "dtype: int64\n",
      "merchant              0\n",
      "industry              0\n",
      "first_charge_date    26\n",
      "country               0\n",
      "business_size         0\n",
      "dtype: int64\n"
     ]
    }
   ],
   "source": [
    "# Check for missing values in both datasets\n",
    "payments_missing = Stripe_payment.isnull().sum()\n",
    "merchants_missing = Stripe_merchants.isnull().sum()\n",
    "\n",
    "print(payments_missing) \n",
    "\n",
    "print(merchants_missing)"
   ]
  },
  {
   "cell_type": "code",
   "execution_count": 49,
   "metadata": {},
   "outputs": [],
   "source": [
    " #Save the missing values to an Excel file for traceability and future-proofing your analysis\n",
    "merchants_missing.to_excel('missing_values_Stripe_merchants.xlsx', index=False)\n",
    "# Drop rows with NaT in critical date fields\n",
    "Stripe_merchants = Stripe_merchants.dropna(subset=['first_charge_date'])\n",
    "\n",
    "# Converts USD cents to dollars by dividing each relevant column by 100\n",
    "Stripe_payment['subscription_volume_usd'] = Stripe_payment['subscription_volume'] / 100\n",
    "Stripe_payment['checkout_volume_usd'] = Stripe_payment['checkout_volume'] / 100\n",
    "Stripe_payment['payment_link_volume_usd'] = Stripe_payment['payment_link_volume'] / 100\n",
    "Stripe_payment['total_volume_usd'] = Stripe_payment['total_volume'] / 100\n",
    "\n"
   ]
  },
  {
   "cell_type": "code",
   "execution_count": 50,
   "metadata": {},
   "outputs": [],
   "source": [
    "# Merge the datasets on the 'merchant' identifier\n",
    "Stripe_merged = pd.merge(Stripe_payment, Stripe_merchants, on='merchant', how='inner')"
   ]
  },
  {
   "cell_type": "code",
   "execution_count": 63,
   "metadata": {},
   "outputs": [],
   "source": [
    "# Filter merchants with subscription_volume_usd == 0 (new-to-Subscriptions)\n",
    "non_subscription_users = Stripe_merged[Stripe_merged['subscription_volume_usd'] == 0]"
   ]
  },
  {
   "cell_type": "code",
   "execution_count": 64,
   "metadata": {},
   "outputs": [],
   "source": [
    "# Identify potential users for Subscriptions\n",
    "potential_subscription_users = non_subscription_users[\n",
    "    (non_subscription_users['checkout_volume_usd'] > 0) | \n",
    "    (non_subscription_users['payment_link_volume_usd'] > 0)\n",
    "].copy()  # Add .copy() here to create a copy of the DataFrame slice\n"
   ]
  },
  {
   "cell_type": "code",
   "execution_count": 65,
   "metadata": {},
   "outputs": [],
   "source": [
    "# Calculate rank score using .loc \n",
    "potential_subscription_users.loc[:, 'rank_score'] = (\n",
    "    potential_subscription_users['checkout_volume_usd'] +\n",
    "    potential_subscription_users['payment_link_volume_usd']\n",
    ")\n",
    "# Sort the merchants by the rank_score\n",
    "potential_subscription_users = potential_subscription_users.sort_values(by='rank_score', ascending=False)\n"
   ]
  },
  {
   "cell_type": "code",
   "execution_count": 66,
   "metadata": {},
   "outputs": [],
   "source": [
    "# Select relevant columns for the final output\n",
    "target_columns = ['merchant', 'industry', 'country', 'business_size', 'first_charge_date', 'checkout_volume_usd', 'payment_link_volume_usd', 'rank_score']\n",
    "potential_subscription_users = potential_subscription_users[target_columns]"
   ]
  },
  {
   "cell_type": "code",
   "execution_count": 67,
   "metadata": {},
   "outputs": [],
   "source": [
    "# Save the target merchants list to a CSV file\n",
    "potential_subscription_users.to_csv('target_merchants_for_subscription_campaign.csv', index=False)"
   ]
  },
  {
   "cell_type": "code",
   "execution_count": 68,
   "metadata": {},
   "outputs": [
    {
     "data": {
      "text/html": [
       "<div>\n",
       "<style scoped>\n",
       "    .dataframe tbody tr th:only-of-type {\n",
       "        vertical-align: middle;\n",
       "    }\n",
       "\n",
       "    .dataframe tbody tr th {\n",
       "        vertical-align: top;\n",
       "    }\n",
       "\n",
       "    .dataframe thead th {\n",
       "        text-align: right;\n",
       "    }\n",
       "</style>\n",
       "<table border=\"1\" class=\"dataframe\">\n",
       "  <thead>\n",
       "    <tr style=\"text-align: right;\">\n",
       "      <th></th>\n",
       "      <th>merchant</th>\n",
       "      <th>industry</th>\n",
       "      <th>country</th>\n",
       "      <th>business_size</th>\n",
       "      <th>first_charge_date</th>\n",
       "      <th>checkout_volume_usd</th>\n",
       "      <th>payment_link_volume_usd</th>\n",
       "      <th>rank_score</th>\n",
       "    </tr>\n",
       "  </thead>\n",
       "  <tbody>\n",
       "    <tr>\n",
       "      <th>1289402</th>\n",
       "      <td>cb905985</td>\n",
       "      <td>Ticketing &amp; events</td>\n",
       "      <td>BR</td>\n",
       "      <td>small</td>\n",
       "      <td>2041-05-27 00:00:00+00:00</td>\n",
       "      <td>342590.69</td>\n",
       "      <td>0.0</td>\n",
       "      <td>342590.69</td>\n",
       "    </tr>\n",
       "    <tr>\n",
       "      <th>1332164</th>\n",
       "      <td>dbca5427</td>\n",
       "      <td>Clothing &amp; accessory</td>\n",
       "      <td>US</td>\n",
       "      <td>medium</td>\n",
       "      <td>2041-06-15 00:00:00+00:00</td>\n",
       "      <td>315767.15</td>\n",
       "      <td>0.0</td>\n",
       "      <td>315767.15</td>\n",
       "    </tr>\n",
       "    <tr>\n",
       "      <th>1076005</th>\n",
       "      <td>77bace1e</td>\n",
       "      <td>Education</td>\n",
       "      <td>GB</td>\n",
       "      <td>medium</td>\n",
       "      <td>2039-07-09 00:00:00+00:00</td>\n",
       "      <td>299804.14</td>\n",
       "      <td>0.0</td>\n",
       "      <td>299804.14</td>\n",
       "    </tr>\n",
       "    <tr>\n",
       "      <th>1332161</th>\n",
       "      <td>dbca5427</td>\n",
       "      <td>Clothing &amp; accessory</td>\n",
       "      <td>US</td>\n",
       "      <td>medium</td>\n",
       "      <td>2041-06-15 00:00:00+00:00</td>\n",
       "      <td>291501.60</td>\n",
       "      <td>0.0</td>\n",
       "      <td>291501.60</td>\n",
       "    </tr>\n",
       "    <tr>\n",
       "      <th>214454</th>\n",
       "      <td>c939a25f</td>\n",
       "      <td>Ticketing &amp; events</td>\n",
       "      <td>CA</td>\n",
       "      <td>small</td>\n",
       "      <td>2038-06-21 00:00:00+00:00</td>\n",
       "      <td>248335.46</td>\n",
       "      <td>0.0</td>\n",
       "      <td>248335.46</td>\n",
       "    </tr>\n",
       "    <tr>\n",
       "      <th>1289401</th>\n",
       "      <td>cb905985</td>\n",
       "      <td>Ticketing &amp; events</td>\n",
       "      <td>BR</td>\n",
       "      <td>small</td>\n",
       "      <td>2041-05-27 00:00:00+00:00</td>\n",
       "      <td>248293.06</td>\n",
       "      <td>0.0</td>\n",
       "      <td>248293.06</td>\n",
       "    </tr>\n",
       "    <tr>\n",
       "      <th>1498461</th>\n",
       "      <td>937b993c</td>\n",
       "      <td>Digital goods</td>\n",
       "      <td>SE</td>\n",
       "      <td>small</td>\n",
       "      <td>2041-11-09 00:00:00+00:00</td>\n",
       "      <td>240000.00</td>\n",
       "      <td>0.0</td>\n",
       "      <td>240000.00</td>\n",
       "    </tr>\n",
       "    <tr>\n",
       "      <th>1076004</th>\n",
       "      <td>77bace1e</td>\n",
       "      <td>Education</td>\n",
       "      <td>GB</td>\n",
       "      <td>medium</td>\n",
       "      <td>2039-07-09 00:00:00+00:00</td>\n",
       "      <td>216865.75</td>\n",
       "      <td>0.0</td>\n",
       "      <td>216865.75</td>\n",
       "    </tr>\n",
       "    <tr>\n",
       "      <th>1075947</th>\n",
       "      <td>77bace1e</td>\n",
       "      <td>Education</td>\n",
       "      <td>GB</td>\n",
       "      <td>medium</td>\n",
       "      <td>2039-07-09 00:00:00+00:00</td>\n",
       "      <td>201631.71</td>\n",
       "      <td>0.0</td>\n",
       "      <td>201631.71</td>\n",
       "    </tr>\n",
       "    <tr>\n",
       "      <th>1332165</th>\n",
       "      <td>dbca5427</td>\n",
       "      <td>Clothing &amp; accessory</td>\n",
       "      <td>US</td>\n",
       "      <td>medium</td>\n",
       "      <td>2041-06-15 00:00:00+00:00</td>\n",
       "      <td>181625.18</td>\n",
       "      <td>0.0</td>\n",
       "      <td>181625.18</td>\n",
       "    </tr>\n",
       "  </tbody>\n",
       "</table>\n",
       "</div>"
      ],
      "text/plain": [
       "         merchant              industry country business_size  \\\n",
       "1289402  cb905985    Ticketing & events      BR         small   \n",
       "1332164  dbca5427  Clothing & accessory      US        medium   \n",
       "1076005  77bace1e             Education      GB        medium   \n",
       "1332161  dbca5427  Clothing & accessory      US        medium   \n",
       "214454   c939a25f    Ticketing & events      CA         small   \n",
       "1289401  cb905985    Ticketing & events      BR         small   \n",
       "1498461  937b993c         Digital goods      SE         small   \n",
       "1076004  77bace1e             Education      GB        medium   \n",
       "1075947  77bace1e             Education      GB        medium   \n",
       "1332165  dbca5427  Clothing & accessory      US        medium   \n",
       "\n",
       "                first_charge_date  checkout_volume_usd  \\\n",
       "1289402 2041-05-27 00:00:00+00:00            342590.69   \n",
       "1332164 2041-06-15 00:00:00+00:00            315767.15   \n",
       "1076005 2039-07-09 00:00:00+00:00            299804.14   \n",
       "1332161 2041-06-15 00:00:00+00:00            291501.60   \n",
       "214454  2038-06-21 00:00:00+00:00            248335.46   \n",
       "1289401 2041-05-27 00:00:00+00:00            248293.06   \n",
       "1498461 2041-11-09 00:00:00+00:00            240000.00   \n",
       "1076004 2039-07-09 00:00:00+00:00            216865.75   \n",
       "1075947 2039-07-09 00:00:00+00:00            201631.71   \n",
       "1332165 2041-06-15 00:00:00+00:00            181625.18   \n",
       "\n",
       "         payment_link_volume_usd  rank_score  \n",
       "1289402                      0.0   342590.69  \n",
       "1332164                      0.0   315767.15  \n",
       "1076005                      0.0   299804.14  \n",
       "1332161                      0.0   291501.60  \n",
       "214454                       0.0   248335.46  \n",
       "1289401                      0.0   248293.06  \n",
       "1498461                      0.0   240000.00  \n",
       "1076004                      0.0   216865.75  \n",
       "1075947                      0.0   201631.71  \n",
       "1332165                      0.0   181625.18  "
      ]
     },
     "metadata": {},
     "output_type": "display_data"
    }
   ],
   "source": [
    "display(potential_subscription_users.head(10))"
   ]
  }
 ],
 "metadata": {
  "kernelspec": {
   "display_name": "base",
   "language": "python",
   "name": "python3"
  },
  "language_info": {
   "codemirror_mode": {
    "name": "ipython",
    "version": 3
   },
   "file_extension": ".py",
   "mimetype": "text/x-python",
   "name": "python",
   "nbconvert_exporter": "python",
   "pygments_lexer": "ipython3",
   "version": "3.11.5"
  }
 },
 "nbformat": 4,
 "nbformat_minor": 2
}
